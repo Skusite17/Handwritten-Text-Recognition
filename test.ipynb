{
 "cells": [
  {
   "cell_type": "code",
   "execution_count": null,
   "metadata": {},
   "outputs": [],
   "source": [
    "import os\n",
    "import cv2\n",
    "import numpy as np\n",
    "from keras.models import load_model\n",
    "from keras.utils import to_categorical\n",
    "\n",
    "# Load trained model\n",
    "model = load_model('model_hand.h5')\n",
    "\n",
    "# Load word dictionary\n",
    "labels = ['hello', 'world', 'goodbye', 'thanks', 'please']\n",
    "word_dict = {i: label for i, label in enumerate(labels)}\n",
    "\n",
    "# Read in test image\n",
    "img_path = \"test_image.png\"\n",
    "img = cv2.imread(img_path, cv2.IMREAD_GRAYSCALE)\n",
    "\n",
    "# Preprocess image\n",
    "img_copy = cv2.GaussianBlur(img, (7, 7), 0)\n",
    "img_gray = cv2.cvtColor(img_copy, cv2.COLOR_GRAY2BGR)\n",
    "thresh = cv2.adaptiveThreshold(img_gray, 255, cv2.ADAPTIVE_THRESH_GAUSSIAN_C, cv2.THRESH_BINARY_INV, 11, 2)\n",
    "contours, hierarchy = cv2.findContours(thresh, cv2.RETR_EXTERNAL, cv2.CHAIN_APPROX_SIMPLE)\n",
    "\n",
    "# Make predictions on each contour\n",
    "for cnt in contours:\n",
    "    x, y, w, h = cv2.boundingRect(cnt)\n",
    "    if w < 10 or h < 10:\n",
    "        continue\n",
    "    roi = thresh[y:y+h, x:x+w]\n",
    "    roi_resized = cv2.resize(roi, (28, 28))\n",
    "    roi_flattened = roi_resized.reshape(1, 28, 28)\n",
    "    roi_normalized = roi_flattened / 255.0\n",
    "    pred = model.predict(roi_normalized)\n",
    "    pred_label = word_dict[np.argmax(pred)]\n",
    "    print(\"Predicted label: {}\".format(pred_label))\n",
    "\n",
    "# Display the preprocessed image with bounding boxes around recognized words\n",
    "img_draw = img.copy()\n",
    "for cnt in contours:\n",
    "    x, y, w, h = cv2.boundingRect(cnt)\n",
    "    if w < 10 or h < 10:\n",
    "        continue\n",
    "    cv2.rectangle(img_draw, (x, y), (x+w, y+h), (255, 0, 0), 1)\n",
    "\n",
    "cv2.imshow('Test Image', img_draw)\n",
    "cv2.waitKey(0)\n",
    "cv2.destroyAllWindows()"
   ]
  }
 ],
 "metadata": {
  "language_info": {
   "name": "python"
  },
  "orig_nbformat": 4
 },
 "nbformat": 4,
 "nbformat_minor": 2
}
